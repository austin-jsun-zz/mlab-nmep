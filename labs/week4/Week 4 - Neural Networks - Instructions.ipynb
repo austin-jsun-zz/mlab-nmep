{
 "cells": [
  {
   "cell_type": "markdown",
   "metadata": {},
   "source": [
    "# Neural Networks + Cloud GPU Lab\n",
    "Today we'll be introducing how to use processing accelerators, called Graphics Processing Units (GPUs), to greatly speed up the training of neural networks."
   ]
  },
  {
   "cell_type": "markdown",
   "metadata": {},
   "source": [
    "## Background\n",
    "In the olden days of machine learning, CPUs, like the Intel one that's probably in your laptop right now, were used to train neural networks. The problem was, these CPUs were too slow, and as a result it took weeks to train fairly small networks. If you've tried training a network on your laptop, you've probably experienced this.\n",
    "\n",
    "In recent years, however, the advent of Graphics Processing Units (GPUs) in deep learning has greatly accelerated network training speed by multiple orders of magnitude. GPUs are used for processing computer graphics in games, which so happens makes their design very useful for doing lots of linear algebra math! Nowadays a GPU can reduce the training time from weeks/months down to minutes, depending on the network and dataset used.\n",
    "\n",
    "### AWS and Google Colaboratory\n",
    "Buying your own GPU is of course, expensive, so big tech companies have made them available to rent (or use for free in the case of Google Colab) on the internet. Amazon Web Services (AWS), is the most popular provider of GPUs in the \"cloud\" (online rented compute power). They provide remote access to Linux machines in their datacenters, and we'll be going over how to use these to train models in the cloud. We'll also be going over how to use Google Colaboratory, which is a free service by Google that allows you to use Jupyter notebooks in your web browser in conjunction with (FREE!) GPUs."
   ]
  },
  {
   "cell_type": "markdown",
   "metadata": {},
   "source": [
    "## Google Colaboratory Introduction\n",
    "Google Colab is located at [Google's website](https://colab.research.google.com/notebooks/welcome.ipynb). In order to create a new notebook, you can either import an existing notebook or create your own. Today we'll be importing this notebook, so go ahead and upload this notebook using File -> Upload Notebook."
   ]
  },
  {
   "cell_type": "markdown",
   "metadata": {},
   "source": []
  }
 ],
 "metadata": {
  "kernelspec": {
   "display_name": "Python 3",
   "language": "python",
   "name": "python3"
  },
  "language_info": {
   "codemirror_mode": {
    "name": "ipython",
    "version": 3
   },
   "file_extension": ".py",
   "mimetype": "text/x-python",
   "name": "python",
   "nbconvert_exporter": "python",
   "pygments_lexer": "ipython3",
   "version": "3.6.7"
  }
 },
 "nbformat": 4,
 "nbformat_minor": 2
}
